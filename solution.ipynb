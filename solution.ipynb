{
  "nbformat": 4,
  "nbformat_minor": 0,
  "metadata": {
    "colab": {
      "provenance": [],
      "toc_visible": true
    },
    "kernelspec": {
      "name": "python3",
      "display_name": "Python 3"
    },
    "language_info": {
      "name": "python"
    }
  },
  "cells": [
    {
      "cell_type": "markdown",
      "source": [
        "**ROLL NO: 21i-2682**\n",
        "\n",
        "**SECTION: DS-N**\n",
        "\n",
        "**AI - ASSIGNMENT 1**\n",
        "\n",
        "\n",
        "\n"
      ],
      "metadata": {
        "id": "9hkkmifWCKXd"
      }
    },
    {
      "cell_type": "markdown",
      "source": [
        "**DFS APPROACH**"
      ],
      "metadata": {
        "id": "Vi2KspuIEMHZ"
      }
    },
    {
      "cell_type": "code",
      "source": [
        "#utalizing the source code provided\n",
        "def solve_cryptarithmetic_dfs():\n",
        "    def is_valid_assignment(assignment):\n",
        "        #check if leading digits are not zero\n",
        "        if assignment['S'] == 0 or assignment['M'] == 0:\n",
        "            return False\n",
        "        return True\n",
        "\n",
        "    def dfs(letters, digits, assigned, assignment):\n",
        "        if len(assigned) == len(letters):\n",
        "            if is_valid_assignment(assignment):\n",
        "                send = 1000 * assignment['S'] + 100 * assignment['E'] + 10 * assignment['N'] + assignment['D']\n",
        "                more = 1000 * assignment['M'] + 100 * assignment['O'] + 10 * assignment['R'] + assignment['E']\n",
        "                money = 10000 * assignment['M'] + 1000 * assignment['O'] + 100 * assignment['N'] + 10 * assignment['E'] + assignment['Y']\n",
        "                if send + more == money:\n",
        "                    return assignment\n",
        "            return None\n",
        "\n",
        "        for digit in digits:\n",
        "            if digit not in assigned.values():\n",
        "                letter = letters[len(assigned)]\n",
        "                assigned[letter] = digit\n",
        "                assignment[letter] = digit\n",
        "                result = dfs(letters, digits, assigned, assignment)\n",
        "                if result:\n",
        "                    return result\n",
        "                del assigned[letter]\n",
        "                del assignment[letter]\n",
        "\n",
        "        return None\n",
        "\n",
        "    letters = ('S', 'E', 'N', 'D', 'M', 'O', 'R', 'Y')\n",
        "    digits = range(10)\n",
        "    assigned = {}\n",
        "    assignment = {}\n",
        "    return dfs(letters, digits, assigned, assignment)\n",
        "\n",
        "print(solve_cryptarithmetic_dfs())\n"
      ],
      "metadata": {
        "colab": {
          "base_uri": "https://localhost:8080/"
        },
        "id": "9-RQCoiWqWdy",
        "outputId": "dfc5e763-c047-40b3-ea34-3719933418a8"
      },
      "execution_count": 1,
      "outputs": [
        {
          "output_type": "stream",
          "name": "stdout",
          "text": [
            "{'S': 9, 'E': 5, 'N': 6, 'D': 7, 'M': 1, 'O': 0, 'R': 8, 'Y': 2}\n"
          ]
        }
      ]
    },
    {
      "cell_type": "markdown",
      "source": [
        "**UCS**"
      ],
      "metadata": {
        "id": "SSLEzW2hOTWi"
      }
    },
    {
      "cell_type": "code",
      "source": [
        "import heapq\n",
        "import time\n",
        "\n",
        "def timeit(fn):\n",
        "    def wrapper():\n",
        "        start = time.perf_counter()\n",
        "        ret = fn()\n",
        "        elapsed = time.perf_counter() - start\n",
        "        print(\"%s took %.2fs\" % (fn.__name__, elapsed))\n",
        "        return ret\n",
        "    return wrapper\n",
        "\n",
        "class State:\n",
        "    def __init__(self, assignment, cost):\n",
        "        self.assignment = assignment\n",
        "        self.cost = cost\n",
        "\n",
        "    def __lt__(self, other):\n",
        "        return self.cost < other.cost\n",
        "\n",
        "def solve_cryptarithmetic_ucs():\n",
        "    def is_valid_assignment(assignment):\n",
        "        #check if leading digits are not zero\n",
        "        if assignment['S'] == 0 or assignment['M'] == 0:\n",
        "            return False\n",
        "        return True\n",
        "\n",
        "    letters = ('S', 'E', 'N', 'D', 'M', 'O', 'R', 'Y')\n",
        "\n",
        "    #initialize the priority queue with the initial state\n",
        "    priority_queue = [State({}, 0)]\n",
        "    while priority_queue:\n",
        "        #pop the state with the lowest cost\n",
        "        state = heapq.heappop(priority_queue)\n",
        "        assignment = state.assignment\n",
        "        if len(assignment) == len(letters):\n",
        "            #check if the assignment is valid\n",
        "            if is_valid_assignment(assignment):\n",
        "                send = 1000 * assignment['S'] + 100 * assignment['E'] + 10 * assignment['N'] + assignment['D']\n",
        "                more = 1000 * assignment['M'] + 100 * assignment['O'] + 10 * assignment['R'] + assignment['E']\n",
        "                money = 10000 * assignment['M'] + 1000 * assignment['O'] + 100 * assignment['N'] + 10 * assignment['E'] + assignment['Y']\n",
        "                if send + more == money:\n",
        "                    return assignment\n",
        "        else:\n",
        "            #expand the current state by adding one more letter\n",
        "            for digit in range(10):\n",
        "                if digit not in assignment.values():\n",
        "                    new_assignment = assignment.copy()\n",
        "                    new_assignment[letters[len(assignment)]] = digit\n",
        "                    #calculate the cost (total number of assignments)\n",
        "                    new_cost = sum(1 for _ in new_assignment.values())\n",
        "                    heapq.heappush(priority_queue, State(new_assignment, new_cost))\n",
        "    return None\n",
        "\n",
        "@timeit\n",
        "def solve():\n",
        "    return solve_cryptarithmetic_ucs()\n",
        "\n",
        "print(solve())"
      ],
      "metadata": {
        "colab": {
          "base_uri": "https://localhost:8080/"
        },
        "id": "KQrBls-5N0cd",
        "outputId": "f2bd8518-c955-4b85-f085-8c2e82c85276"
      },
      "execution_count": 12,
      "outputs": [
        {
          "output_type": "stream",
          "name": "stdout",
          "text": [
            "solve took 26.23s\n",
            "{'S': 9, 'E': 5, 'N': 6, 'D': 7, 'M': 1, 'O': 0, 'R': 8, 'Y': 2}\n"
          ]
        }
      ]
    },
    {
      "cell_type": "markdown",
      "source": [
        "**DFS**"
      ],
      "metadata": {
        "id": "GPrQI9wEOXSi"
      }
    },
    {
      "cell_type": "code",
      "execution_count": 7,
      "metadata": {
        "id": "rnoO__EFaNFp",
        "colab": {
          "base_uri": "https://localhost:8080/"
        },
        "outputId": "d77a6935-d779-4cf0-8302-f10e05c6a246"
      },
      "outputs": [
        {
          "output_type": "stream",
          "name": "stdout",
          "text": [
            "1 solutions found in 0.0s\n",
            "Solution: {'XY': 98, 'X': 9, 'YX': 89}\n"
          ]
        }
      ],
      "source": [
        "import re\n",
        "import time\n",
        "\n",
        "from z3 import *\n",
        "\n",
        "def cryptarithmetic_dfs(input: str, limit=None, unique=True):\n",
        "    start_time  = time.perf_counter()\n",
        "    solver      = Solver()\n",
        "    token_words = re.findall(r'\\b[a-zA-Z]\\w*\\b', input)  #words must start with a letter\n",
        "\n",
        "    letters = { l: Int(l) for l in list(\"\".join(token_words)) }\n",
        "    words   = { w: Int(w) for w in list(token_words)          }\n",
        "\n",
        "    #convert letters to numbers\n",
        "    for l,s in letters.items(): solver.add(0 <= s, s <= 9)\n",
        "\n",
        "    #letters must be unique\n",
        "    if unique and len(letters) <= 10:\n",
        "        solver.add(Distinct(*letters.values()))\n",
        "\n",
        "    #words must be unique\n",
        "    solver.add(Distinct(*words.values()))\n",
        "\n",
        "    #first letter must not be zero\n",
        "    for word in words.keys():\n",
        "        solver.add( letters[word[0]] != 0 )\n",
        "\n",
        "    #convert words to decimal values\n",
        "    for word, word_symbol in words.items():\n",
        "        solver.add(word_symbol == Sum(*[\n",
        "            letter_symbol * 10**index\n",
        "            for index,letter_symbol in enumerate(reversed([\n",
        "                letters[l] for l in list(word)\n",
        "                ]))\n",
        "            ]))\n",
        "\n",
        "    #problem def as defined by input\n",
        "    solver.add(eval(input, None, words))\n",
        "\n",
        "    solutions = []\n",
        "    stack = [(solver, [])]  # to keep track of solver state and assignments\n",
        "    while stack:\n",
        "        current_solver, current_assignment = stack.pop()\n",
        "        if str(current_solver.check()) == 'sat':\n",
        "            model = current_solver.model()\n",
        "            solution = {str(s): model[s] for w, s in words.items()}\n",
        "            solutions.append(solution)\n",
        "            #to avoid finding the same solution again\n",
        "            stack.append((current_solver, current_assignment + [Or([s != model[s] for _, s in words.items()])]))\n",
        "            #for deeper search\n",
        "            stack.append((current_solver, current_assignment + [s != model[s] for _, s in words.items()]))\n",
        "        if limit and len(solutions) >= limit:\n",
        "            break\n",
        "\n",
        "    run_time = round(time.perf_counter() - start_time, 1)\n",
        "    print(f'{len(solutions)} solutions found in {run_time}s')\n",
        "    return solutions\n",
        "\n",
        "#'TWO + TWO == FOUR\n",
        "#('SEND + MORE == MONEY')\n",
        "#ONE * TWO == THREE\n",
        "#HERE + SHE == COMES\n",
        "input_string = \"XY - X == YX\"\n",
        "solutions = cryptarithmetic_dfs(input_string, limit=1)\n",
        "if solutions:\n",
        "    print(\"Solution:\", solutions[0])\n",
        "else:\n",
        "    print(\"No solution found\")\n"
      ]
    },
    {
      "cell_type": "code",
      "source": [
        "pip install z3-solver"
      ],
      "metadata": {
        "colab": {
          "base_uri": "https://localhost:8080/"
        },
        "id": "9eljpPxx7trY",
        "outputId": "3c1d725f-74f6-4958-df8b-9e6df0f2884f"
      },
      "execution_count": 2,
      "outputs": [
        {
          "output_type": "stream",
          "name": "stdout",
          "text": [
            "Collecting z3-solver\n",
            "  Downloading z3_solver-4.13.0.0-py2.py3-none-manylinux2014_x86_64.whl (57.3 MB)\n",
            "\u001b[2K     \u001b[90m━━━━━━━━━━━━━━━━━━━━━━━━━━━━━━━━━━━━━━━━\u001b[0m \u001b[32m57.3/57.3 MB\u001b[0m \u001b[31m16.4 MB/s\u001b[0m eta \u001b[36m0:00:00\u001b[0m\n",
            "\u001b[?25hInstalling collected packages: z3-solver\n",
            "Successfully installed z3-solver-4.13.0.0\n"
          ]
        }
      ]
    },
    {
      "cell_type": "markdown",
      "source": [
        "**GREEDY APPROACH**"
      ],
      "metadata": {
        "id": "jhMcteJPM8CX"
      }
    },
    {
      "cell_type": "code",
      "source": [
        "import re\n",
        "import time\n",
        "from collections import Counter\n",
        "from z3 import *\n",
        "\n",
        "def heuristic(letters, words):\n",
        "    #fefine a heuristic function to estimate the priority of assignments\n",
        "    letter_counts = Counter(\"\".join(words.keys()))\n",
        "    return lambda l: -letter_counts[l]\n",
        "\n",
        "def cryptarithmetic_greedy(input: str, limit=None, unique=True):\n",
        "    start_time  = time.perf_counter()\n",
        "    solver      = Solver()\n",
        "    token_words = re.findall(r'\\b[a-zA-Z]\\w*\\b', input)  #words start with a letter\n",
        "\n",
        "    letters = { l: Int(l) for l in list(\"\".join(token_words)) }\n",
        "    words   = { w: Int(w) for w in list(token_words)          }\n",
        "\n",
        "    #convert letters to numbers\n",
        "    for l, s in letters.items(): solver.add(0 <= s, s <= 9)\n",
        "\n",
        "    #letters must be unique\n",
        "    if unique and len(letters) <= 10:\n",
        "        solver.add(Distinct(*letters.values()))\n",
        "\n",
        "    #words must be unique\n",
        "    solver.add(Distinct(*words.values()))\n",
        "\n",
        "    #first letter must not be zero\n",
        "    for word in words.keys():\n",
        "        solver.add( letters[word[0]] != 0 )\n",
        "\n",
        "    #convert words to decimal values\n",
        "    for word, word_symbol in words.items():\n",
        "        solver.add(word_symbol == Sum(*[\n",
        "            letter_symbol * 10**index\n",
        "            for index, letter_symbol in enumerate(reversed([\n",
        "                letters[l] for l in list(word)\n",
        "            ]))\n",
        "        ]))\n",
        "\n",
        "    #Problem definition as defined by input\n",
        "    solver.add(eval(input, None, words))\n",
        "\n",
        "    solutions = []\n",
        "    priority_queue = [(heuristic(letters, words), solver, [])]  #Priority queue to keep track of the solver state and assignments\n",
        "    while priority_queue:\n",
        "        _, current_solver, current_assignment = priority_queue.pop(0)  #POP the state with the highest priority\n",
        "        if str(current_solver.check()) == 'sat':\n",
        "            model = current_solver.model()\n",
        "            solution = {str(s): model[s] for w, s in words.items()}\n",
        "            solutions.append(solution)\n",
        "            #ADd constraints to avoid finding same solution again\n",
        "            current_solver_copy = current_solver\n",
        "            current_solver_copy.add(Or([s != model[s] for _, s in words.items()]))\n",
        "            priority_queue.append((heuristic(letters, words), current_solver_copy, current_assignment))\n",
        "            #deeper search\n",
        "            current_solver_deep = current_solver\n",
        "            current_solver_deep.add([s != model[s] for _, s in words.items()])\n",
        "            priority_queue.append((heuristic(letters, words), current_solver_deep, current_assignment))\n",
        "        if limit and len(solutions) >= limit:\n",
        "            break\n",
        "\n",
        "        #Sort priority queue based on priority function\n",
        "        priority_queue.sort(key=lambda x: x[0](x[2][-1]) if x[2] else float('-inf'))\n",
        "\n",
        "    run_time = round(time.perf_counter() - start_time, 1)\n",
        "    print(f'{len(solutions)} solutions found in {run_time}s')\n",
        "    return solutions\n",
        "\n",
        "input_string = \"SEND + MORE == MONEY\"\n",
        "solutions = cryptarithmetic_greedy(input_string, limit=1)\n",
        "if solutions:\n",
        "    print(\"Solution:\", solutions[0])\n",
        "else:\n",
        "    print(\"No solution found\")\n"
      ],
      "metadata": {
        "colab": {
          "base_uri": "https://localhost:8080/"
        },
        "id": "hhMnbSnlDBA1",
        "outputId": "20a39703-592e-49d1-afbc-bfb04103caa4"
      },
      "execution_count": 11,
      "outputs": [
        {
          "output_type": "stream",
          "name": "stdout",
          "text": [
            "1 solutions found in 0.0s\n",
            "Solution: {'SEND': 9567, 'MORE': 1085, 'MONEY': 10652}\n"
          ]
        }
      ]
    },
    {
      "cell_type": "code",
      "source": [
        "import re\n",
        "import time\n",
        "from collections import Counter\n",
        "from z3 import *\n",
        "\n",
        "def heuristic(letters, words):\n",
        "    #define a heuristic function to estimate the priority of assignments\n",
        "    letter_counts = Counter(\"\".join(words.keys()))\n",
        "    return lambda l: -letter_counts[l]\n",
        "\n",
        "def a_star_search(input: str, limit=None, unique=True):\n",
        "    start_time  = time.perf_counter()\n",
        "    solver      = Solver()\n",
        "    token_words = re.findall(r'\\b[a-zA-Z]\\w*\\b', input)  # Words start with a letter\n",
        "\n",
        "    letters = { l: Int(l) for l in list(\"\".join(token_words)) }\n",
        "    words   = { w: Int(w) for w in list(token_words)          }\n",
        "\n",
        "    #convert letters to num\n",
        "    for l, s in letters.items():\n",
        "        solver.add(0 <= s, s <= 9)\n",
        "\n",
        "    #letters must be unique\n",
        "    if unique and len(letters) <= 10:\n",
        "        solver.add(Distinct(*letters.values()))\n",
        "\n",
        "    #words must be unique\n",
        "    solver.add(Distinct(*words.values()))\n",
        "\n",
        "    #1st letter must not be zero\n",
        "    for word in words.keys():\n",
        "        solver.add(letters[word[0]] != 0)\n",
        "\n",
        "    #convert words to decimal values\n",
        "    for word, word_symbol in words.items():\n",
        "        solver.add(word_symbol == Sum(*[\n",
        "            letter_symbol * 10**index\n",
        "            for index, letter_symbol in enumerate(reversed([\n",
        "                letters[l] for l in list(word)\n",
        "            ]))\n",
        "        ]))\n",
        "\n",
        "    solver.add(eval(input, None, words))\n",
        "\n",
        "    solutions = []\n",
        "    priority_queue = [(0, solver, [])]  #queue to keep know solver state and assignments\n",
        "    while priority_queue:\n",
        "        _, current_solver, current_assignment = priority_queue.pop(0)  #pop the state with the highest priority\n",
        "        if str(current_solver.check()) == 'sat':\n",
        "            model = current_solver.model()\n",
        "            solution = {str(s): model[s] for w, s in words.items()}\n",
        "            solutions.append(solution)\n",
        "            if limit and len(solutions) >= limit:\n",
        "                break\n",
        "\n",
        "            #new states\n",
        "            for w, s in words.items():\n",
        "                new_solver = current_solver.copy()\n",
        "                new_solver.add(s != model[s])  #finding the same solution again-avoid it\n",
        "                priority_queue.append((len(current_assignment) + 1 + heuristic(letters, words)(w), new_solver, current_assignment + [s]))\n",
        "\n",
        "            #sort priority queue based on priority function\n",
        "            priority_queue.sort(key=lambda x: x[0])\n",
        "\n",
        "    run_time = round(time.perf_counter() - start_time, 1)\n",
        "    print(f'{len(solutions)} solutions found in {run_time}s')\n",
        "    return solutions\n",
        "\n",
        "input_string = \"XY - X == YX\"\n",
        "solutions = a_star_search(input_string, limit=1)\n",
        "if solutions:\n",
        "    print(\"Solution:\", solutions[0])\n",
        "else:\n",
        "    print(\"No solution found\")\n"
      ],
      "metadata": {
        "colab": {
          "base_uri": "https://localhost:8080/"
        },
        "id": "5sHwA0Sczz9S",
        "outputId": "28d65838-3467-4277-827e-ad2b1baeac21"
      },
      "execution_count": 4,
      "outputs": [
        {
          "output_type": "stream",
          "name": "stdout",
          "text": [
            "1 solutions found in 0.1s\n",
            "Solution: {'XY': 98, 'X': 9, 'YX': 89}\n"
          ]
        }
      ]
    }
  ]
}